{
 "cells": [
  {
   "cell_type": "code",
   "execution_count": null,
   "metadata": {
    "id": "UHvUSZblgDIf"
   },
   "outputs": [],
   "source": [
    "import os \n",
    "import imageio\n",
    "from IPython.display import display, Image\n",
    "from sklearn.preprocessing import OneHotEncoder\n",
    "import numpy as np \n",
    "from tensorflow import keras\n",
    "from tensorflow.keras import layers\n",
    "from tensorflow.keras import regularizers\n",
    "from tensorflow.keras.callbacks import EarlyStopping, ModelCheckpoint"
   ]
  },
  {
   "cell_type": "code",
   "execution_count": null,
   "metadata": {
    "id": "cJ-U7UrgfLrF"
   },
   "outputs": [],
   "source": [
    "#for using in google colab\n",
    "!unzip \"drive/MyDrive/trainimages.zip\" -d \"/content/data/\""
   ]
  },
  {
   "cell_type": "code",
   "execution_count": null,
   "metadata": {
    "colab": {
     "base_uri": "https://localhost:8080/"
    },
    "id": "_5y1bV92ibq_",
    "outputId": "8649512f-8ac7-4339-d290-4dfa4b60d812"
   },
   "outputs": [],
   "source": [
    "train_path = 'data/train/images/'\n",
    "\n",
    "#ignore .ipynb_checkpoints\n",
    "classes = [f for f in os.listdir(train_path) if not f.startswith('.')]\n",
    "\n",
    "train_x, train_y = [], []\n",
    "#128x87 with 1 channel\n",
    "image_shape = (128,87,1)\n",
    "\n",
    "for c in classes:\n",
    "  label = classes.index(c)\n",
    "  print(label)\n",
    "  class_path = train_path + c + '/'\n",
    "  images = os.listdir(train_path+c+'/')\n",
    "  for im in images:\n",
    "    #display(Image(filename=class_path + im))\n",
    "    x = np.array(imageio.imread(class_path+im))\n",
    "    x = np.expand_dims(x,axis=0)\n",
    "    x = np.resize(x,image_shape)\n",
    "    train_x.append(x)\n",
    "    train_y.append(label)"
   ]
  },
  {
   "cell_type": "code",
   "execution_count": null,
   "metadata": {
    "colab": {
     "base_uri": "https://localhost:8080/"
    },
    "id": "1pe44iCDMu89",
    "outputId": "533e23a8-6638-4fcf-dd0a-89db97c9c9a2"
   },
   "outputs": [],
   "source": [
    "train_x = np.array(train_x)\n",
    "train_y = np.array(train_y).reshape(-1,1)\n",
    "\n",
    "onehot = OneHotEncoder()\n",
    "train_y = onehot.fit_transform(train_y).toarray()\n",
    "print(train_x.shape)\n",
    "print(train_y.shape)\n",
    "num_classes = train_y.shape[1]"
   ]
  },
  {
   "cell_type": "code",
   "execution_count": null,
   "metadata": {
    "id": "VVxUAteCvSAb"
   },
   "outputs": [],
   "source": [
    "shuffler = np.random.permutation(len(train_x))\n",
    "\n",
    "train_x = train_x[shuffler]\n",
    "\n",
    "train_y = train_y[shuffler]"
   ]
  },
  {
   "cell_type": "code",
   "execution_count": null,
   "metadata": {
    "colab": {
     "base_uri": "https://localhost:8080/"
    },
    "id": "BLHsX4B1-czH",
    "outputId": "a73665bd-5aa4-4004-a400-967748aa2fdb"
   },
   "outputs": [],
   "source": [
    "model = keras.Sequential(\n",
    "    [\n",
    "        keras.Input(shape=image_shape),\n",
    "        layers.Conv2D(128,kernel_size=(3,3),activation=\"relu\",kernel_regularizer=regularizers.l2(4e-5)),\n",
    "        layers.Conv2D(128,kernel_size=(3,3),activation=\"relu\",kernel_regularizer=regularizers.l2(4e-5)),\n",
    "        layers.Conv2D(128,kernel_size=(3,3),activation=\"relu\",kernel_regularizer=regularizers.l2(4e-5)),\n",
    "        #layers.MaxPooling2D(pool_size=(2,2)),\n",
    "        layers.Conv2D(256,kernel_size=(3,3),activation=\"relu\",kernel_regularizer=regularizers.l2(4e-5)),\n",
    "        layers.Conv2D(256,kernel_size=(3,3),activation=\"relu\",kernel_regularizer=regularizers.l2(4e-5)),\n",
    "        layers.Conv2D(256,kernel_size=(3,3),activation=\"relu\",kernel_regularizer=regularizers.l2(4e-5)),\n",
    "        layers.MaxPooling2D(pool_size=(2,2)),\n",
    "        layers.Conv2D(512,kernel_size=(3,3),activation=\"relu\",kernel_regularizer=regularizers.l2(4e-5)),\n",
    "        layers.Conv2D(512,kernel_size=(3,3),activation=\"relu\",kernel_regularizer=regularizers.l2(4e-5)),\n",
    "        layers.Conv2D(512,kernel_size=(3,3),activation=\"relu\",kernel_regularizer=regularizers.l2(4e-5)),\n",
    "        layers.MaxPooling2D(pool_size=(2,2)),\n",
    "        layers.Conv2D(512,kernel_size=(3,3),activation=\"relu\",kernel_regularizer=regularizers.l2(4e-5)),    \n",
    "        layers.Conv2D(512,kernel_size=(3,3),activation=\"relu\",kernel_regularizer=regularizers.l2(4e-5)),   \n",
    "        layers.Conv2D(512,kernel_size=(3,3),activation=\"relu\",kernel_regularizer=regularizers.l2(4e-5)),     \n",
    "        layers.Flatten(),\n",
    "        layers.Dense(1024,activation=\"relu\",kernel_regularizer=regularizers.l2(4e-5)),\n",
    "        layers.Dense(512,activation=\"relu\",kernel_regularizer=regularizers.l2(4e-5)),\n",
    "\n",
    "        layers.Dense(num_classes,activation=\"softmax\",kernel_regularizer=regularizers.l2(4e-5))\n",
    "    ],\n",
    "    name=\"cnn-12\"\n",
    ")\n",
    "\n",
    "model.summary()"
   ]
  },
  {
   "cell_type": "code",
   "execution_count": null,
   "metadata": {
    "id": "DP0xb1yA-rxc"
   },
   "outputs": [],
   "source": [
    "#opt = keras.optimizers.SGD(learning_rate = 0.01, momentum=0.9,nesterov=True)\n",
    "\n",
    "opt = keras.optimizers.Adam(learning_rate=0.01)\n",
    "model.compile(optimizer=opt,loss=\"categorical_crossentropy\",metrics=['accuracy'])"
   ]
  },
  {
   "cell_type": "code",
   "execution_count": null,
   "metadata": {
    "colab": {
     "base_uri": "https://localhost:8080/"
    },
    "id": "CwXo4E_a_G4T",
    "outputId": "e4202d19-4038-4b8f-bf06-3f07ed4aae36",
    "scrolled": true
   },
   "outputs": [],
   "source": [
    "#model = keras.models.load_model('weights.h5')\n",
    "early_stop = EarlyStopping(monitor='val_loss',min_delta=.00001, patience=10, restore_best_weights=True)\n",
    "checkpoint = ModelCheckpoint('best_model.h5',monitor='val_accuracy', save_best_only=True,mode='max')\n",
    "#model.fit(train_x,train_y,batch_size=50,epochs=100, callbacks=[early_stop,checkpoint], validation_split = 0.15)\n",
    "model.fit(train_x,train_y,batch_size=50,epochs=100, validation_split = 0.1)"
   ]
  },
  {
   "cell_type": "code",
   "execution_count": null,
   "metadata": {
    "id": "F5R8Za1Mv-zV"
   },
   "outputs": [],
   "source": [
    "model.save('weights.h5')"
   ]
  }
 ],
 "metadata": {
  "accelerator": "GPU",
  "colab": {
   "collapsed_sections": [],
   "name": "ML Project CNN-2.ipynb",
   "provenance": []
  },
  "kernelspec": {
   "display_name": "Python 3",
   "language": "python",
   "name": "python3"
  },
  "language_info": {
   "codemirror_mode": {
    "name": "ipython",
    "version": 3
   },
   "file_extension": ".py",
   "mimetype": "text/x-python",
   "name": "python",
   "nbconvert_exporter": "python",
   "pygments_lexer": "ipython3",
   "version": "3.8.7"
  }
 },
 "nbformat": 4,
 "nbformat_minor": 1
}
