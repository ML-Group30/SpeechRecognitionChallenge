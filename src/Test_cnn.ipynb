{
  "nbformat": 4,
  "nbformat_minor": 5,
  "metadata": {
    "kernelspec": {
      "display_name": "Python 3",
      "language": "python",
      "name": "python3"
    },
    "language_info": {
      "codemirror_mode": {
        "name": "ipython",
        "version": 3
      },
      "file_extension": ".py",
      "mimetype": "text/x-python",
      "name": "python",
      "nbconvert_exporter": "python",
      "pygments_lexer": "ipython3",
      "version": "3.8.7"
    },
    "colab": {
      "name": "Test_cnn.ipynb",
      "provenance": [],
      "collapsed_sections": [],
      "machine_shape": "hm"
    },
    "accelerator": "GPU"
  },
  "cells": [
    {
      "cell_type": "code",
      "metadata": {
        "id": "limited-drinking"
      },
      "source": [
        "import os\n",
        "import imageio\n",
        "from IPython.display import display, Image\n",
        "from sklearn.preprocessing import OneHotEncoder\n",
        "import numpy as np\n",
        "import pandas as pd\n",
        "from tensorflow import keras\n",
        "from tensorflow.keras import layers\n",
        "from tensorflow.keras import regularizers\n",
        "from tensorflow.keras import models\n",
        "from tensorflow.keras.callbacks import EarlyStopping, ModelCheckpoint"
      ],
      "id": "limited-drinking",
      "execution_count": 1,
      "outputs": []
    },
    {
      "cell_type": "code",
      "metadata": {
        "id": "rsSWvdV26Yij"
      },
      "source": [
        "from google.colab import drive\n",
        "drive.mount('/content/drive')"
      ],
      "id": "rsSWvdV26Yij",
      "execution_count": null,
      "outputs": []
    },
    {
      "cell_type": "code",
      "metadata": {
        "id": "fxDYN10vHTp_"
      },
      "source": [
        "!unzip \"drive/MyDrive/test.zip\" -d \"/content/data/\""
      ],
      "id": "fxDYN10vHTp_",
      "execution_count": null,
      "outputs": []
    },
    {
      "cell_type": "code",
      "metadata": {
        "id": "backed-exclusive"
      },
      "source": [
        "classes = ['yes','no','up','down','left','right','on','off','stop','go','silence','unknown']\n",
        "num_classes = 12"
      ],
      "id": "backed-exclusive",
      "execution_count": null,
      "outputs": []
    },
    {
      "cell_type": "code",
      "metadata": {
        "id": "touched-session"
      },
      "source": [
        "model = models.load_model(\"drive/MyDrive/best_mfcc.h5\")\n",
        "#model.summary()\n",
        "opt = keras.optimizers.Adam(learning_rate=0.01)\n",
        "model.compile(optimizer=opt,loss=\"categorical_crossentropy\",metrics=['accuracy'])"
      ],
      "id": "touched-session",
      "execution_count": null,
      "outputs": []
    },
    {
      "cell_type": "code",
      "metadata": {
        "id": "eU3JkXUYPzoo"
      },
      "source": [
        "image_shape = (299,299,3)\n",
        "test_path = '/content/data/test/mfcc/'\n",
        "\n",
        "def read_images(num=1000,image_names=[]):\n",
        "  images = []\n",
        "  names = []\n",
        "  for k in range(min(num,len(image_names))):\n",
        "    if (image_names[k][0] == \".\"):\n",
        "      continue\n",
        "    if (not os.path.exists(test_path + image_names[k])):\n",
        "      continue \n",
        "    names.append(image_names[k])\n",
        "    x = np.array(imageio.imread(test_path + image_names[k]))\n",
        "    x = np.expand_dims(x,axis=0)\n",
        "    x = np.resize(x,image_shape)\n",
        "    images.append(x)\n",
        "  return (names,np.array(images))"
      ],
      "id": "eU3JkXUYPzoo",
      "execution_count": null,
      "outputs": []
    },
    {
      "cell_type": "code",
      "metadata": {
        "id": "ZV0PLl0I8kUY"
      },
      "source": [
        "def predict_labels(test_x):\n",
        "  predictions = model.predict(test_x)\n",
        "  labels = []\n",
        "  for p in predictions:\n",
        "    i = np.argmax(p)\n",
        "    labels.append(classes[i])\n",
        "  return labels "
      ],
      "id": "ZV0PLl0I8kUY",
      "execution_count": null,
      "outputs": []
    },
    {
      "cell_type": "code",
      "metadata": {
        "id": "lRC3PIi8Rqy7"
      },
      "source": [
        "images = os.listdir(test_path)\n",
        "test_num = len(images)\n",
        "batch_size = 2000"
      ],
      "id": "lRC3PIi8Rqy7",
      "execution_count": null,
      "outputs": []
    },
    {
      "cell_type": "code",
      "metadata": {
        "id": "LI6Z9-kSSCXB"
      },
      "source": [
        "pred_file = open(\"predictions.csv\",\"w\")\n",
        "pred_file.write(\"fname,label\\n\")\n",
        "for n in range(0,test_num,batch_size):\n",
        "  image_names, image_batch = read_images(batch_size,images)\n",
        "  print(n)\n",
        "  label_batch = predict_labels(image_batch)\n",
        "  for k in range(min(batch_size,len(image_batch))):\n",
        "    label = label_batch[k]\n",
        "    im = image_names[k].replace(\"png\",\"wav\")\n",
        "    pred_file.write(\"{},{}\\n\".format(im,label))\n",
        "  \n",
        "  images = images[len(image_batch):]\n",
        "  if (len(images) == 0):\n",
        "    break\n",
        "\n",
        "pred_file.close()"
      ],
      "id": "LI6Z9-kSSCXB",
      "execution_count": null,
      "outputs": []
    }
  ]
}